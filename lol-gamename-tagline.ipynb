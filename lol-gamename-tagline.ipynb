{
 "cells": [
  {
   "cell_type": "code",
   "execution_count": 5,
   "metadata": {},
   "outputs": [],
   "source": [
    "import requests\n",
    "import pandas as pd\n",
    "from datetime import datetime\n",
    "import time\n",
    "import traceback"
   ]
  },
  {
   "cell_type": "code",
   "execution_count": 6,
   "metadata": {},
   "outputs": [],
   "source": [
    "api_key = \"\""
   ]
  },
  {
   "cell_type": "code",
   "execution_count": 7,
   "metadata": {},
   "outputs": [],
   "source": [
    "def get_summoners_id_by_rank(region, rank):\n",
    "    api_url = \"https://\"+region+\".api.riotgames.com/lol/league/v4/\"+rank+\"/by-queue/RANKED_SOLO_5x5?api_key=\"+api_key\n",
    "    resp = requests.get(api_url)\n",
    "    data = resp.json()\n",
    "    return data\n",
    "\n",
    "\n",
    "def get_player_info_by_summoner_id(region, summoner_id):\n",
    "    api_url = \"https://\"+region+\".api.riotgames.com/lol/summoner/v4/summoners/\"+summoner_id+\"?api_key=\"+api_key\n",
    "    resp = requests.get(api_url)\n",
    "    if resp.status_code == 200:\n",
    "        data = resp.json()\n",
    "        return data\n",
    "    else:\n",
    "        return False\n",
    "\n",
    "\n",
    "def get_info_by_puuid(continent, puuid):\n",
    "    api_url = \"https://\"+continent+\".api.riotgames.com/riot/account/v1/accounts/by-puuid/\"+puuid+\"?api_key=\"+api_key\n",
    "    resp = requests.get(api_url)\n",
    "    if resp.status_code == 200:\n",
    "        data = resp.json()\n",
    "        return data\n",
    "    else:\n",
    "        return False\n",
    "\n",
    "\n",
    "def get_player_info_by_puuid(region, continent, summoners):\n",
    "    count = 0\n",
    "    data = {\"game_name\": [], \"tag_line\": [], \"puuid\": []}\n",
    "    \n",
    "    for summoner in summoners:\n",
    "        if count % 999 == 0 and count != 0:\n",
    "            print(\"1 minute break\")\n",
    "            time.sleep(60)\n",
    "            \n",
    "        if count % 100 == 0:\n",
    "            print(f\"Count: {count} -\", datetime.now())\n",
    "        \n",
    "        try:\n",
    "            player_ids = get_player_info_by_summoner_id(region, summoner[\"summonerId\"])        \n",
    "            player_info = get_info_by_puuid(continent, player_ids[\"puuid\"])\n",
    "            \n",
    "            if player_info != False: \n",
    "                data[\"game_name\"].append(player_info[\"gameName\"])\n",
    "                data[\"tag_line\"].append(player_info[\"tagLine\"])\n",
    "                data[\"puuid\"].append(player_ids[\"puuid\"])\n",
    "        except Exception:\n",
    "            print(count, summoner[\"summonerId\"])\n",
    "            traceback.print_exc()\n",
    "        \n",
    "        count += 1\n",
    "\n",
    "    df = pd.DataFrame(data)\n",
    "    df.to_csv(\"data.csv\")"
   ]
  },
  {
   "cell_type": "code",
   "execution_count": 8,
   "metadata": {},
   "outputs": [
    {
     "name": "stdout",
     "output_type": "stream",
     "text": [
      "Count: 0 -  2024-05-28 11:58:33.231195\n",
      "Count: 100 -  2024-05-28 12:01:02.557325\n"
     ]
    }
   ],
   "source": [
    "regions = [\"br1\", \"eun1\", \"euw1\", \"jp1\", \"kr\", \"la1\", \"la2\", \"na1\", \"oc1\", \"ph2\", \"ru\", \"sg2\", \"th2\", \"tr1\", \"tw2\", 'vn2']\n",
    "ranks = [\"challengerleagues\", \"grandmasterleagues\", \"masterleagues\"]\n",
    "continents = [\"americas\", \"asia\", \"esports\", \"europe\"]\n",
    "\n",
    "region = regions[0]\n",
    "rank = ranks[0]\n",
    "continent = continents[0]\n",
    "\n",
    "summoners = get_summoners_id_by_rank(region, rank)\n",
    "get_player_info_by_puuid(region, continent, summoners[\"entries\"])"
   ]
  }
 ],
 "metadata": {
  "kernelspec": {
   "display_name": "base",
   "language": "python",
   "name": "python3"
  },
  "language_info": {
   "codemirror_mode": {
    "name": "ipython",
    "version": 3
   },
   "file_extension": ".py",
   "mimetype": "text/x-python",
   "name": "python",
   "nbconvert_exporter": "python",
   "pygments_lexer": "ipython3",
   "version": "3.11.7"
  }
 },
 "nbformat": 4,
 "nbformat_minor": 2
}
